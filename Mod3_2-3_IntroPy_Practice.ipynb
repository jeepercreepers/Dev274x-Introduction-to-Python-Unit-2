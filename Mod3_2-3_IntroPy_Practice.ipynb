{
  "cells": [
    {
      "metadata": {},
      "cell_type": "markdown",
      "source": "# 2-3 Intro Python Practice  \n## power iteration of sequences\n\n<font size=\"5\" color=\"#00A0B2\"  face=\"verdana\"> <B>Student will be able to</B></font>  \n- Iterate through Lists using **`for`** and **`in`**\n- Use **`for` *`count`* `in range()`** in looping operations  \n- Use list methods **`.extend()`, `+, .reverse(), .sort()`**  \n- convert between lists and strings using  **`.split()`** and **`.join()`**\n- cast strings to lists **/** direct multiple print outputs to a single line.  ** `print(\"hi\", end='')`**"
    },
    {
      "metadata": {},
      "cell_type": "markdown",
      "source": "# &nbsp;\n<font size=\"6\" color=\"#B24C00\"  face=\"verdana\"> <B>Task 1</B></font>\n##  list iteration: `for in`\n### `for item in list:`"
    },
    {
      "metadata": {
        "trusted": true
      },
      "cell_type": "code",
      "source": "# [ ] print out the \"physical states of matter\" (matter_states) in 4 sentences using list iteration\n# each sentence should be of the format: \"Solid - is state of matter #1\" \nmatter_states = ['solid', 'liquid', 'gas', 'plasma']\ncount = 1\nstate = \"is a state of matter #\"\n\nfor i in matter_states:\n    print(i, state, count)\n    count += 1\n\n",
      "execution_count": 1,
      "outputs": [
        {
          "output_type": "stream",
          "text": "solid is a state of matter # 1\nliquid is a state of matter # 2\ngas is a state of matter # 3\nplasma is a state of matter # 4\n",
          "name": "stdout"
        }
      ]
    },
    {
      "metadata": {
        "trusted": true
      },
      "cell_type": "code",
      "source": "# [ ] iterate the list (birds) to see any bird names start with \"c\" and remove that item from the list\n# print the birds list before and after removals\n\nbirds = [\"turkey\", \"hawk\", \"chicken\", \"dove\", \"crow\"]\nnew_birds = []\n\nfor i in birds:\n    if i[0] != \"c\":\n        new_birds.append(i)\n\nprint(\"Old list:\", birds)\nprint(\"New List:\", new_birds)\n",
      "execution_count": 5,
      "outputs": [
        {
          "output_type": "stream",
          "text": "Old list: ['turkey', 'hawk', 'chicken', 'dove', 'crow']\nNew List: ['turkey', 'hawk', 'dove']\n",
          "name": "stdout"
        }
      ]
    },
    {
      "metadata": {
        "trusted": true
      },
      "cell_type": "code",
      "source": "# the team makes 1pt, 2pt or 3pt baskets\n# [ ] print the occurace of each type of basket(1pt, 2pt, 3pt) & total points using the list baskets\nbaskets = [2,2,2,1,2,1,3,3,1,2,2,2,2,1,3]\npt1 = 0\npt2 = 0\npt3 = 0\ntotal = 0 \n\nfor i in baskets:\n    total += i\n    if i == 1:\n        pt1 += 1\n    elif i == 2:\n        pt2 += 1\n    elif i == 3:\n        pt3 += 1\n        \nprint(\"1pts =\", pt1)\nprint(\"2pts =\", pt2)\nprint(\"3pts =\", pt3)\nprint(\"Total points scored =\", total)\n",
      "execution_count": 10,
      "outputs": [
        {
          "output_type": "stream",
          "text": "1pts = 4\n2pts = 8\n3pts = 3\nTotal points scored = 29\n",
          "name": "stdout"
        }
      ]
    },
    {
      "metadata": {},
      "cell_type": "markdown",
      "source": "# &nbsp;\n<font size=\"6\" color=\"#B24C00\"  face=\"verdana\"> <B>Task 2</B></font>\n##  iteration with `range(start)` & `range(start,stop)`\n"
    },
    {
      "metadata": {
        "trusted": true
      },
      "cell_type": "code",
      "source": "# [ ] using range() print \"hello\" 4 times\n\nfor i in range(4):\n    print(\"Hello\")",
      "execution_count": 11,
      "outputs": [
        {
          "output_type": "stream",
          "text": "Hello\nHello\nHello\nHello\n",
          "name": "stdout"
        }
      ]
    },
    {
      "metadata": {
        "trusted": true
      },
      "cell_type": "code",
      "source": "# [ ] find spell_list length\n# [ ] use range() to iterate each half of spell_list  \n# [ ] label & print the first and second halves\nspell_list = [\"Tuesday\", \"Wednesday\", \"February\", \"November\", \"Annual\", \"Calendar\", \"Solstice\"]\n\nlength = len(spell_list)\nhalf_way = int(length/2)\n\nfirst_half = []\nsecond_half = []\n\n#print(length)\n#print(half_way)\n\nfor i in spell_list[:half_way]:\n    first_half.append(i)\n    \nfor i in spell_list[half_way:length]:\n    second_half.append(i)\n    \nprint(\"First Half:\", first_half)\nprint(\"Second Half:\", second_half)",
      "execution_count": 21,
      "outputs": [
        {
          "output_type": "stream",
          "text": "First Half: ['Tuesday', 'Wednesday', 'February']\nSecond Half: ['November', 'Annual', 'Calendar', 'Solstice']\n",
          "name": "stdout"
        }
      ]
    },
    {
      "metadata": {
        "trusted": true
      },
      "cell_type": "code",
      "source": "# [ ] build a list of numbers from 20 to 29: twenties \n# append each number to twenties list using range(start,stop) iteration\n# [ ] print twenties\ntwenties = []\n\nfor i in range(20,30):\n    twenties.append(i)\n    \nprint(twenties)",
      "execution_count": 22,
      "outputs": [
        {
          "output_type": "stream",
          "text": "[20, 21, 22, 23, 24, 25, 26, 27, 28, 29]\n",
          "name": "stdout"
        }
      ]
    },
    {
      "metadata": {
        "trusted": true
      },
      "cell_type": "code",
      "source": "# [ ] iterate through the numbers populated in the list twenties and add each number to a variable: total\n# [ ] print total\ntotal = 0\n\nfor i in twenties:\n    total += i \n\nprint(total)",
      "execution_count": 23,
      "outputs": [
        {
          "output_type": "stream",
          "text": "245\n",
          "name": "stdout"
        }
      ]
    },
    {
      "metadata": {
        "trusted": true
      },
      "cell_type": "code",
      "source": "# check your answer above using range(start,stop)\n# [ ] iterate each number from 20 to 29 using range()\n# [ ] add each number to a variable (total) to calculate the sum\n# should match earlier task \ntotal = 0\n\nfor i in range(20,30):\n    total += i \n    \nprint(total)",
      "execution_count": 25,
      "outputs": [
        {
          "output_type": "stream",
          "text": "245\n",
          "name": "stdout"
        }
      ]
    },
    {
      "metadata": {},
      "cell_type": "markdown",
      "source": "# &nbsp;\n<font size=\"6\" color=\"#B24C00\"  face=\"verdana\"> <B>Task 3</B></font>\n##  iteration with `range(start:stop:skip)`\n"
    },
    {
      "metadata": {
        "trusted": true
      },
      "cell_type": "code",
      "source": "# [ ] create a list of odd numbers (odd_nums) from 1 to 25 using range(start,stop,skip)\n# [ ] print odd_nums\n# hint: odd numbers are 2 digits apart\n\nodd_nums = [*range(1,26,2)]\n\nprint(\"Odd Numbers:\", odd_nums)",
      "execution_count": 28,
      "outputs": [
        {
          "output_type": "stream",
          "text": "Odd Numbers: [1, 3, 5, 7, 9, 11, 13, 15, 17, 19, 21, 23, 25]\n",
          "name": "stdout"
        }
      ]
    },
    {
      "metadata": {
        "trusted": true
      },
      "cell_type": "code",
      "source": "# [ ] create a Decending list of odd numbers (odd_nums) from 25 to 1 using range(start,stop,skip)\n# [ ] print odd_nums,  output should resemble [25, 23, ...]\n\nodd_nums = [*range(25,0,-2)]\n\nprint(\"Odd Numbers:\", odd_nums)\n",
      "execution_count": 31,
      "outputs": [
        {
          "output_type": "stream",
          "text": "Odd Numbers: [25, 23, 21, 19, 17, 15, 13, 11, 9, 7, 5, 3, 1]\n",
          "name": "stdout"
        }
      ]
    },
    {
      "metadata": {
        "trusted": true
      },
      "cell_type": "code",
      "source": "# the list, elements, contains the names of the first 20 elements in atomic number order\n# [ ] print the even number elements \"2 - Helium, 4 - Beryllium,..\" in the list with the atomic number\nelements = ['Hydrogen', 'Helium', 'Lithium', 'Beryllium', 'Boron', 'Carbon', 'Nitrogen', 'Oxygen', 'Fluorine', \\\n 'Neon', 'Sodium', 'Magnesium', 'Aluminum', 'Silicon', 'Phosphorus', 'Sulfur', 'Chlorine', 'Argon', \\\n 'Potassium', 'Calcium']\n\nlengeth = len(elements)\n\nfor i in elements[0:lengeth + 1:2]:\n    print(elements.index(i), \"-\", i)",
      "execution_count": 41,
      "outputs": [
        {
          "output_type": "stream",
          "text": "0 - Hydrogen\n2 - Lithium\n4 - Boron\n6 - Nitrogen\n8 - Fluorine\n10 - Sodium\n12 - Aluminum\n14 - Phosphorus\n16 - Chlorine\n18 - Potassium\n",
          "name": "stdout"
        }
      ]
    },
    {
      "metadata": {
        "trusted": true
      },
      "cell_type": "code",
      "source": "# [ ] the list, elements_40, contains the names of the first 40 elements in atomic number order\n# [ ] print the odd number elements \"1 - Hydrogen, 3 - Lithium,..\" in the list with the atomic number elements_40\nelements_40 = ['Hydrogen', \\\n 'Helium', 'Lithium', 'Beryllium', 'Boron', 'Carbon', 'Nitrogen', 'Oxygen', 'Fluorine', \\\n 'Neon', 'Sodium', 'Magnesium', 'Aluminum', 'Silicon', 'Phosphorus', 'Sulfur', 'Chlorine', \\\n 'Argon', 'Potassium', 'Calcium', 'Scandium', 'Titanium', 'Vanadium', 'Chromium', 'Manganese', \\\n 'Iron', 'Cobalt', 'Nickel', 'Copper', 'Zinc', 'Gallium', 'Germanium', 'Arsenic', 'Selenium', \\\n 'Bromine', 'Krypton', 'Rubidium', 'Strontium', 'Yttrium', 'Zirconium']\n\nlengeth = len(elements_40)\n\nfor i in elements_40[0:lengeth +1:2]:\n    print(elements_40.index(i) + 1, \"-\", i)",
      "execution_count": 43,
      "outputs": [
        {
          "output_type": "stream",
          "text": "1 - Hydrogen\n3 - Lithium\n5 - Boron\n7 - Nitrogen\n9 - Fluorine\n11 - Sodium\n13 - Aluminum\n15 - Phosphorus\n17 - Chlorine\n19 - Potassium\n21 - Scandium\n23 - Vanadium\n25 - Manganese\n27 - Cobalt\n29 - Copper\n31 - Gallium\n33 - Arsenic\n35 - Bromine\n37 - Rubidium\n39 - Yttrium\n",
          "name": "stdout"
        }
      ]
    },
    {
      "metadata": {
        "trusted": false
      },
      "cell_type": "code",
      "source": "",
      "execution_count": null,
      "outputs": []
    },
    {
      "metadata": {},
      "cell_type": "markdown",
      "source": "# &nbsp;\n<font size=\"6\" color=\"#B24C00\"  face=\"verdana\"> <B>Task 4</B></font>\n## combine lists with `+` and `.extend()`"
    },
    {
      "metadata": {
        "trusted": true
      },
      "cell_type": "code",
      "source": "# [ ] print the combined lists (numbers_1 & numbers_2) using \"+\" operator\nnumbers_1 = [20, 21, 22, 23, 24, 25, 26, 27, 28, 29]\n\n# pythonic casting of a range into a list\nnumbers_2 = list(range(30,50,2))\n\nprint(\"numbers_1:\",numbers_1)\nprint(\"numbers_2\",numbers_2)\n\nnew_list = numbers_1 + numbers_2\n\nprint(new_list)",
      "execution_count": 1,
      "outputs": [
        {
          "output_type": "stream",
          "text": "numbers_1: [20, 21, 22, 23, 24, 25, 26, 27, 28, 29]\nnumbers_2 [30, 32, 34, 36, 38, 40, 42, 44, 46, 48]\n[20, 21, 22, 23, 24, 25, 26, 27, 28, 29, 30, 32, 34, 36, 38, 40, 42, 44, 46, 48]\n",
          "name": "stdout"
        }
      ]
    },
    {
      "metadata": {
        "trusted": true
      },
      "cell_type": "code",
      "source": "# [ ] print the combined element lists (first_row & second_row) using \".extend()\" method\nfirst_row = ['Hydrogen', 'Helium']\nsecond_row = ['Lithium', 'Beryllium', 'Boron', 'Carbon', 'Nitrogen', 'Oxygen', 'Fluorine', 'Neon']\n\nprint(\"1st Row:\", first_row)\nprint(\"2nd Row:\", second_row)\n\nfirst_row.extend(second_row)\nprint(first_row)\n",
      "execution_count": 4,
      "outputs": [
        {
          "output_type": "stream",
          "text": "1st Row: ['Hydrogen', 'Helium']\n2nd Row: ['Lithium', 'Beryllium', 'Boron', 'Carbon', 'Nitrogen', 'Oxygen', 'Fluorine', 'Neon']\n['Hydrogen', 'Helium', 'Lithium', 'Beryllium', 'Boron', 'Carbon', 'Nitrogen', 'Oxygen', 'Fluorine', 'Neon']\n",
          "name": "stdout"
        }
      ]
    },
    {
      "metadata": {},
      "cell_type": "markdown",
      "source": "## Project: Combine 3 element rows\nChoose to use **\"+\" or \".extend()\" **to build output similar to   \n\n```\nThe 1st three rows of the Period Table of Elements contain:\n['Hydrogen', 'Helium', 'Lithium', 'Beryllium', 'Boron', 'Carbon', 'Nitrogen', 'Oxygen', 'Fluorine', 'Neon', 'Sodium', 'Magnesium', 'Aluminum', 'Silicon', 'Phosphorus', 'Sulfur', 'Chlorine', 'Argon']\n\nThe row breakdown is\nRow 1: Hydrogen, Helium\nRow 2: Lithium, Beryllium, Boron, Carbon, Nitrogen, Oxygen, Fluorine, Neon\nRow 3: Sodium, Magnesium, Aluminum, Silicon, Phosphorus, Sulfur, Chlorine, Argon\n```"
    },
    {
      "metadata": {
        "trusted": true
      },
      "cell_type": "code",
      "source": "# [ ] create the program: combined 3 element rows \n\nelem_1 = ['Hydrogen', 'Helium'] \nelem_2 = ['Lithium', 'Beryllium', 'Boron', 'Carbon', 'Nitrogen', 'Oxygen', 'Fluorine', 'Neon']\nelem_3 = ['Sodium', 'Magnesium', 'Aluminum', 'Silicon', 'Phosphorus', 'Sulfur', 'Chlorine', 'Argon']\n\nprint(\"The 1st three rows of the Period Table of Elements contain:\")\nprint(elem_1 + elem_2 + elem_3)\n",
      "execution_count": 5,
      "outputs": [
        {
          "output_type": "stream",
          "text": "The 1st three rows of the Period Table of Elements contain:\n['Hydrogen', 'Helium', 'Lithium', 'Beryllium', 'Boron', 'Carbon', 'Nitrogen', 'Oxygen', 'Fluorine', 'Neon', 'Sodium', 'Magnesium', 'Aluminum', 'Silicon', 'Phosphorus', 'Sulfur', 'Chlorine', 'Argon']\n",
          "name": "stdout"
        }
      ]
    },
    {
      "metadata": {
        "trusted": true
      },
      "cell_type": "code",
      "source": "# [ ] .extend() jack_jill with \"next_line\" string - print the result\njack_jill = ['Jack', 'and', 'Jill', 'went', 'up', 'the', 'hill']\nnext_line = ['To', 'fetch', 'a', 'pail', 'of', 'water']\n\njack_jill.extend(next_line)\nprint(jack_jill[:7], \"\\n\", jack_jill[7:])",
      "execution_count": 13,
      "outputs": [
        {
          "output_type": "stream",
          "text": "['Jack', 'and', 'Jill', 'went', 'up', 'the', 'hill'] \n ['To', 'fetch', 'a', 'pail', 'of', 'water']\n",
          "name": "stdout"
        }
      ]
    },
    {
      "metadata": {},
      "cell_type": "markdown",
      "source": "# &nbsp;\n<font size=\"6\" color=\"#B24C00\"  face=\"verdana\"> <B>Task 5</B></font>\n## .reverse() : reverse a list in place"
    },
    {
      "metadata": {
        "trusted": true
      },
      "cell_type": "code",
      "source": "# [ ] use .reverse() to print elements starting with \"Calcium\", \"Chlorine\",... in reverse order\nelements = ['Hydrogen', 'Helium', 'Lithium', 'Beryllium', 'Boron', 'Carbon', 'Nitrogen', 'Oxygen', 'Fluorine', \\\n 'Neon', 'Sodium', 'Magnesium', 'Aluminum', 'Silicon', 'Phosphorus', 'Sulfur', 'Chlorine', 'Argon', \\\n 'Potassium', 'Calcium']\n\nelements.reverse()\n\nprint(elements)",
      "execution_count": 15,
      "outputs": [
        {
          "output_type": "stream",
          "text": "['Calcium', 'Potassium', 'Argon', 'Chlorine', 'Sulfur', 'Phosphorus', 'Silicon', 'Aluminum', 'Magnesium', 'Sodium', 'Neon', 'Fluorine', 'Oxygen', 'Nitrogen', 'Carbon', 'Boron', 'Beryllium', 'Lithium', 'Helium', 'Hydrogen']\n",
          "name": "stdout"
        }
      ]
    },
    {
      "metadata": {
        "trusted": true
      },
      "cell_type": "code",
      "source": "# [ ] reverse order of the list... Then print only words that are 8 characters or longer from the now reversed order\nspell_list = [\"Tuesday\", \"Wednesday\", \"February\", \"November\", \"Annual\", \"Calendar\", \"Solstice\"]\n\nspell_list.reverse()\n\nfor i in spell_list:\n    if len(i) >= 8:\n        print(i)",
      "execution_count": 19,
      "outputs": [
        {
          "output_type": "stream",
          "text": "Solstice\nCalendar\nNovember\nFebruary\nWednesday\n",
          "name": "stdout"
        }
      ]
    },
    {
      "metadata": {},
      "cell_type": "markdown",
      "source": "# &nbsp;\n<font size=\"6\" color=\"#B24C00\"  face=\"verdana\"> <B>Task 6</B></font>\n## .sort() and sorted()"
    },
    {
      "metadata": {
        "trusted": true
      },
      "cell_type": "code",
      "source": "# [ ] sort the list element, so names are in alphabetical order and print elements\nelements = ['Hydrogen', 'Helium', 'Lithium', 'Beryllium', 'Boron', 'Carbon', 'Nitrogen', 'Oxygen', 'Fluorine', \\\n 'Neon', 'Sodium', 'Magnesium', 'Aluminum', 'Silicon', 'Phosphorus', 'Sulfur', 'Chlorine', 'Argon', \\\n 'Potassium', 'Calcium']\n\nelements.sort()\n\nprint(elements)",
      "execution_count": 21,
      "outputs": [
        {
          "output_type": "stream",
          "text": "['Aluminum', 'Argon', 'Beryllium', 'Boron', 'Calcium', 'Carbon', 'Chlorine', 'Fluorine', 'Helium', 'Hydrogen', 'Lithium', 'Magnesium', 'Neon', 'Nitrogen', 'Oxygen', 'Phosphorus', 'Potassium', 'Silicon', 'Sodium', 'Sulfur']\n",
          "name": "stdout"
        }
      ]
    },
    {
      "metadata": {
        "trusted": true
      },
      "cell_type": "code",
      "source": "# [ ] print the list, numbers, sorted and then below print the original numbers list \nnumbers = [2,2,2,1,2,1,3,3,1,2,2,2,2,1,3]\n\nnew_list = sorted(numbers)\n\nprint(new_list)\nprint(numbers)",
      "execution_count": 23,
      "outputs": [
        {
          "output_type": "stream",
          "text": "[1, 1, 1, 1, 2, 2, 2, 2, 2, 2, 2, 2, 3, 3, 3]\n[2, 2, 2, 1, 2, 1, 3, 3, 1, 2, 2, 2, 2, 1, 3]\n",
          "name": "stdout"
        }
      ]
    },
    {
      "metadata": {},
      "cell_type": "markdown",
      "source": "# &nbsp;\n<font size=\"6\" color=\"#B24C00\"  face=\"verdana\"> <B>Task 7</B></font>\n## Converting a string to a list with `.split()`"
    },
    {
      "metadata": {
        "trusted": true
      },
      "cell_type": "code",
      "source": "# [ ] split the string, daily_fact, into a list of word strings: fact_words\n# [ ] print each string in fact_words in upper case on its own line\ndaily_fact = \"Did you know that there are 1.4 billion students in the world?\"\n\nnew_list = daily_fact.split()\n\nfor i in new_list:\n    print(i.upper())",
      "execution_count": 25,
      "outputs": [
        {
          "output_type": "stream",
          "text": "DID\nYOU\nKNOW\nTHAT\nTHERE\nARE\n1.4\nBILLION\nSTUDENTS\nIN\nTHE\nWORLD?\n",
          "name": "stdout"
        }
      ]
    },
    {
      "metadata": {
        "trusted": true
      },
      "cell_type": "code",
      "source": "# [ ] convert the string, code_tip, into a list made from splitting on the letter \"o\"\ncode_tip = \"Python uses spaces for indentation\"\n\nprint(code_tip)\n\nsplit_code = code_tip.split(\"a\")\n\nprint(split_code)",
      "execution_count": 29,
      "outputs": [
        {
          "output_type": "stream",
          "text": "Python uses spaces for indentation\n['Python uses sp', 'ces for indent', 'tion']\n",
          "name": "stdout"
        }
      ]
    },
    {
      "metadata": {
        "trusted": true
      },
      "cell_type": "code",
      "source": "# [ ] split poem on \"b\" to create a list: poem_words\n# [ ] print poem_words by iterating the list\npoem = \"The bright brain, has bran!\"\n\nnew_poem = poem.split(\"b\")\n\nfor i in new_poem:\n    print(i)",
      "execution_count": 31,
      "outputs": [
        {
          "output_type": "stream",
          "text": "The \nright \nrain, has \nran!\n",
          "name": "stdout"
        }
      ]
    },
    {
      "metadata": {},
      "cell_type": "markdown",
      "source": "# &nbsp;\n<font size=\"6\" color=\"#B24C00\"  face=\"verdana\"> <B>Task 8</B></font>\n## `.join()`\n### build a string from a list"
    },
    {
      "metadata": {
        "trusted": true
      },
      "cell_type": "code",
      "source": "# [ ] print a comma separated string output from the list of Halogen elements using \".join()\"\nhalogens = ['Chlorine', 'Florine', 'Bromine', 'Iodine']\n\nnew_string = \",\".join(halogens)\n\nprint(new_string)",
      "execution_count": 33,
      "outputs": [
        {
          "output_type": "stream",
          "text": "Chlorine,Florine,Bromine,Iodine\n",
          "name": "stdout"
        }
      ]
    },
    {
      "metadata": {
        "trusted": true
      },
      "cell_type": "code",
      "source": "# [ ] split the sentence, code_tip, into a words list\n# [ ] print the joined words in the list with no spaces in-between\n# [ ] Bonus: capitalize each word in the list before .join()\ncode_tip =\"Read code aloud or explain the code step by step to a peer\"\n\nsplit_list = code_tip.split()\ncap_list = []\nno_space = \"\"\n\nfor i in split_list:\n    cap_list.append(i.upper())\n    \nprint(no_space.join(cap_list))",
      "execution_count": 34,
      "outputs": [
        {
          "output_type": "stream",
          "text": "READCODEALOUDOREXPLAINTHECODESTEPBYSTEPTOAPEER\n",
          "name": "stdout"
        }
      ]
    },
    {
      "metadata": {},
      "cell_type": "markdown",
      "source": "# &nbsp;\n<font size=\"6\" color=\"#B24C00\"  face=\"verdana\"> <B>Task 9</B></font>  \n## `list(string)` & `print(\"hello\",end=' ')`\n\n- **Cast a string to a list** \n- **print to the same line**   "
    },
    {
      "metadata": {
        "trusted": true
      },
      "cell_type": "code",
      "source": "# [ ] cast the long_word into individual letters list \n# [ ] print each letter on a line\nlong_word = 'decelerating'\nnew_list =[]\n\nfor i in long_word:\n    new_list.append(i)\n    \nfor i in new_list:\n    print(i, end='\\n')",
      "execution_count": 42,
      "outputs": [
        {
          "output_type": "stream",
          "text": "d\ne\nc\ne\nl\ne\nr\na\nt\ni\nn\ng\n",
          "name": "stdout"
        }
      ]
    },
    {
      "metadata": {
        "trusted": true
      },
      "cell_type": "code",
      "source": "# [ ] use use end= in print to output each string in questions with a \"?\" and on new lines\nquestions = [\"What's the closest planet to the Sun\", \"How deep do Dolphins swim\", \"What time is it\"]\n\nfor i in questions:\n    print(i, end= '? \\n')",
      "execution_count": 45,
      "outputs": [
        {
          "output_type": "stream",
          "text": "What's the closest planet to the Sun? \nHow deep do Dolphins swim? \nWhat time is it? \n",
          "name": "stdout"
        }
      ]
    },
    {
      "metadata": {
        "trusted": true
      },
      "cell_type": "code",
      "source": "# [ ] print each item in foot bones \n#    - capitalized, both words if two word name\n#    - separated by a comma and space\n#    - and keeping on a single print line\nfoot_bones = [\"calcaneus\", \"talus\", \"cuboid\", \"navicular\", \"lateral cuneiform\", \n            \"intermediate cuneiform\", \"medial cuneiform\"]\n\nfor i in foot_bones:\n    print(i, end= ', ')",
      "execution_count": 46,
      "outputs": [
        {
          "output_type": "stream",
          "text": "calcaneus, talus, cuboid, navicular, lateral cuneiform, intermediate cuneiform, medial cuneiform, ",
          "name": "stdout"
        }
      ]
    },
    {
      "metadata": {},
      "cell_type": "markdown",
      "source": "[Terms of use](http://go.microsoft.com/fwlink/?LinkID=206977) &nbsp; [Privacy & cookies](https://go.microsoft.com/fwlink/?LinkId=521839) &nbsp; © 2017 Microsoft"
    }
  ],
  "metadata": {
    "anaconda-cloud": {},
    "kernelspec": {
      "name": "python3",
      "display_name": "Python 3",
      "language": "python"
    },
    "language_info": {
      "mimetype": "text/x-python",
      "nbconvert_exporter": "python",
      "name": "python",
      "pygments_lexer": "ipython3",
      "version": "3.5.4",
      "file_extension": ".py",
      "codemirror_mode": {
        "version": 3,
        "name": "ipython"
      }
    }
  },
  "nbformat": 4,
  "nbformat_minor": 1
}